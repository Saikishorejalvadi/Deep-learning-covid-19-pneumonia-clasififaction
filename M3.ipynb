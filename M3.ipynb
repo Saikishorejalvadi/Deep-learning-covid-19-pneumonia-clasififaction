{
 "cells": [
  {
   "cell_type": "markdown",
   "metadata": {},
   "source": [
    "# Plant leaf disease detection:"
   ]
  },
  {
   "cell_type": "code",
   "execution_count": 1,
   "metadata": {},
   "outputs": [],
   "source": [
    "from tensorflow.keras.callbacks import ModelCheckpoint, ReduceLROnPlateau, EarlyStopping"
   ]
  },
  {
   "cell_type": "code",
   "execution_count": 2,
   "metadata": {},
   "outputs": [],
   "source": [
    "from tensorflow.keras.models import Sequential"
   ]
  },
  {
   "cell_type": "code",
   "execution_count": 3,
   "metadata": {},
   "outputs": [],
   "source": [
    "from tensorflow.keras.layers import Convolution2D"
   ]
  },
  {
   "cell_type": "code",
   "execution_count": 4,
   "metadata": {},
   "outputs": [],
   "source": [
    "from tensorflow.keras.layers import MaxPooling2D"
   ]
  },
  {
   "cell_type": "code",
   "execution_count": 5,
   "metadata": {},
   "outputs": [],
   "source": [
    "from tensorflow.keras.layers import Flatten"
   ]
  },
  {
   "cell_type": "code",
   "execution_count": 6,
   "metadata": {},
   "outputs": [],
   "source": [
    "from tensorflow.keras.layers import Dense"
   ]
  },
  {
   "cell_type": "code",
   "execution_count": 7,
   "metadata": {},
   "outputs": [],
   "source": [
    "import warnings\n",
    "warnings.filterwarnings('ignore')"
   ]
  },
  {
   "cell_type": "code",
   "execution_count": 8,
   "metadata": {},
   "outputs": [],
   "source": [
    "Classifier=Sequential()"
   ]
  },
  {
   "cell_type": "code",
   "execution_count": 9,
   "metadata": {},
   "outputs": [
    {
     "name": "stdout",
     "output_type": "stream",
     "text": [
      "Model: \"sequential\"\n",
      "_________________________________________________________________\n",
      "Layer (type)                 Output Shape              Param #   \n",
      "=================================================================\n",
      "conv2d (Conv2D)              (None, 75, 75, 32)        896       \n",
      "_________________________________________________________________\n",
      "max_pooling2d (MaxPooling2D) (None, 37, 37, 32)        0         \n",
      "_________________________________________________________________\n",
      "conv2d_1 (Conv2D)            (None, 12, 12, 128)       36992     \n",
      "_________________________________________________________________\n",
      "max_pooling2d_1 (MaxPooling2 (None, 6, 6, 128)         0         \n",
      "_________________________________________________________________\n",
      "flatten (Flatten)            (None, 4608)              0         \n",
      "_________________________________________________________________\n",
      "dense (Dense)                (None, 256)               1179904   \n",
      "_________________________________________________________________\n",
      "dense_1 (Dense)              (None, 3)                 771       \n",
      "=================================================================\n",
      "Total params: 1,218,563\n",
      "Trainable params: 1,218,563\n",
      "Non-trainable params: 0\n",
      "_________________________________________________________________\n"
     ]
    }
   ],
   "source": [
    "Classifier.add(Convolution2D(32,3,3,input_shape=(225,225,3),activation='relu'))\n",
    "Classifier.add(MaxPooling2D(pool_size=(2,2)))\n",
    "Classifier.add(Convolution2D(128,3,3,activation='relu'))\n",
    "Classifier.add(MaxPooling2D(pool_size=(2,2)))\n",
    "Classifier.add(Flatten())\n",
    "Classifier.add(Dense(256, activation='relu'))\n",
    "Classifier.add(Dense(3, activation='softmax'))\n",
    "\n",
    "Classifier.compile(optimizer='rmsprop',loss='categorical_crossentropy',metrics=['accuracy'])\n",
    "Classifier.summary()"
   ]
  },
  {
   "cell_type": "code",
   "execution_count": 10,
   "metadata": {},
   "outputs": [],
   "source": [
    "from tensorflow.keras.preprocessing.image import ImageDataGenerator"
   ]
  },
  {
   "cell_type": "code",
   "execution_count": 11,
   "metadata": {},
   "outputs": [],
   "source": [
    "train_datagen=ImageDataGenerator(rescale=1./255,shear_range=0.2,zoom_range=0.2,horizontal_flip=True)"
   ]
  },
  {
   "cell_type": "code",
   "execution_count": 12,
   "metadata": {},
   "outputs": [],
   "source": [
    "test_datagen=ImageDataGenerator(rescale=1./255)"
   ]
  },
  {
   "cell_type": "code",
   "execution_count": 13,
   "metadata": {},
   "outputs": [
    {
     "name": "stdout",
     "output_type": "stream",
     "text": [
      "Found 1448 images belonging to 3 classes.\n"
     ]
    }
   ],
   "source": [
    "training_set=train_datagen.flow_from_directory('Data/train',target_size=(225,225),batch_size=32,class_mode='categorical')"
   ]
  },
  {
   "cell_type": "code",
   "execution_count": 14,
   "metadata": {},
   "outputs": [
    {
     "name": "stdout",
     "output_type": "stream",
     "text": [
      "Found 1288 images belonging to 3 classes.\n"
     ]
    }
   ],
   "source": [
    "test_set=test_datagen.flow_from_directory('Data/test',target_size=(225,225),batch_size=32,class_mode='categorical')"
   ]
  },
  {
   "cell_type": "code",
   "execution_count": 15,
   "metadata": {},
   "outputs": [],
   "source": [
    "from IPython.display import display"
   ]
  },
  {
   "cell_type": "code",
   "execution_count": 16,
   "metadata": {},
   "outputs": [],
   "source": [
    "img_dims = 150\n",
    "epochs = 20\n",
    "batch_size = 32"
   ]
  },
  {
   "cell_type": "code",
   "execution_count": 17,
   "metadata": {},
   "outputs": [
    {
     "name": "stdout",
     "output_type": "stream",
     "text": [
      "WARNING:tensorflow:From <ipython-input-17-b2ea176dbe09>:1: Model.fit_generator (from tensorflow.python.keras.engine.training) is deprecated and will be removed in a future version.\n",
      "Instructions for updating:\n",
      "Please use Model.fit, which supports generators.\n",
      "Epoch 1/20\n",
      "45/45 [==============================] - 136s 3s/step - loss: 0.9314 - accuracy: 0.5650 - val_loss: 0.4894 - val_accuracy: 0.7781\n",
      "Epoch 2/20\n",
      "45/45 [==============================] - 131s 3s/step - loss: 0.5615 - accuracy: 0.7729 - val_loss: 0.7393 - val_accuracy: 0.6477\n",
      "Epoch 3/20\n",
      "45/45 [==============================] - 134s 3s/step - loss: 0.4943 - accuracy: 0.7917 - val_loss: 0.3935 - val_accuracy: 0.8391\n",
      "Epoch 4/20\n",
      "45/45 [==============================] - 127s 3s/step - loss: 0.4520 - accuracy: 0.8284 - val_loss: 0.2504 - val_accuracy: 0.9187\n",
      "Epoch 5/20\n",
      "45/45 [==============================] - 129s 3s/step - loss: 0.4401 - accuracy: 0.8234 - val_loss: 0.2846 - val_accuracy: 0.8977\n",
      "Epoch 6/20\n",
      "45/45 [==============================] - 128s 3s/step - loss: 0.4158 - accuracy: 0.8369 - val_loss: 0.3022 - val_accuracy: 0.8945\n",
      "Epoch 7/20\n",
      "45/45 [==============================] - 149s 3s/step - loss: 0.3491 - accuracy: 0.8609 - val_loss: 0.3321 - val_accuracy: 0.8719\n",
      "Epoch 8/20\n",
      "45/45 [==============================] - 132s 3s/step - loss: 0.3527 - accuracy: 0.8559 - val_loss: 0.2291 - val_accuracy: 0.9320\n",
      "Epoch 9/20\n",
      "45/45 [==============================] - 126s 3s/step - loss: 0.3498 - accuracy: 0.8644 - val_loss: 0.2243 - val_accuracy: 0.9250\n",
      "Epoch 10/20\n",
      "45/45 [==============================] - 130s 3s/step - loss: 0.3603 - accuracy: 0.8686 - val_loss: 0.2548 - val_accuracy: 0.9055\n",
      "Epoch 11/20\n",
      "45/45 [==============================] - 128s 3s/step - loss: 0.3179 - accuracy: 0.8778 - val_loss: 0.2693 - val_accuracy: 0.8992\n",
      "Epoch 12/20\n",
      "45/45 [==============================] - 134s 3s/step - loss: 0.2767 - accuracy: 0.8948 - val_loss: 0.2524 - val_accuracy: 0.9086\n",
      "Epoch 13/20\n",
      "45/45 [==============================] - 127s 3s/step - loss: 0.2877 - accuracy: 0.8927 - val_loss: 0.2555 - val_accuracy: 0.9078\n",
      "Epoch 14/20\n",
      "45/45 [==============================] - 134s 3s/step - loss: 0.2589 - accuracy: 0.8983 - val_loss: 0.2020 - val_accuracy: 0.9297\n",
      "Epoch 15/20\n",
      "45/45 [==============================] - 139s 3s/step - loss: 0.2584 - accuracy: 0.9018 - val_loss: 0.2370 - val_accuracy: 0.9180\n",
      "Epoch 16/20\n",
      "45/45 [==============================] - 136s 3s/step - loss: 0.2488 - accuracy: 0.9047 - val_loss: 0.2028 - val_accuracy: 0.9258\n",
      "Epoch 17/20\n",
      "45/45 [==============================] - 128s 3s/step - loss: 0.2854 - accuracy: 0.8983 - val_loss: 0.2159 - val_accuracy: 0.9211\n",
      "Epoch 18/20\n",
      "45/45 [==============================] - 129s 3s/step - loss: 0.2084 - accuracy: 0.9237 - val_loss: 0.1763 - val_accuracy: 0.9422\n",
      "Epoch 19/20\n",
      "45/45 [==============================] - 127s 3s/step - loss: 0.2548 - accuracy: 0.9004 - val_loss: 0.2215 - val_accuracy: 0.9320\n",
      "Epoch 20/20\n",
      "45/45 [==============================] - 125s 3s/step - loss: 0.2050 - accuracy: 0.9237 - val_loss: 0.2234 - val_accuracy: 0.9305\n"
     ]
    },
    {
     "data": {
      "text/plain": [
       "<tensorflow.python.keras.callbacks.History at 0x22ce24d6f40>"
      ]
     },
     "execution_count": 17,
     "metadata": {},
     "output_type": "execute_result"
    }
   ],
   "source": [
    "Classifier.fit_generator( training_set, steps_per_epoch=training_set.samples // batch_size, \n",
    "           epochs=epochs, \n",
    "           validation_data=test_set,validation_steps=test_set.samples // batch_size)"
   ]
  },
  {
   "cell_type": "code",
   "execution_count": 18,
   "metadata": {},
   "outputs": [],
   "source": [
    "import h5py"
   ]
  },
  {
   "cell_type": "code",
   "execution_count": 19,
   "metadata": {},
   "outputs": [],
   "source": [
    "Classifier.save('COVID_and_pnemonia.h5')\n",
    "       "
   ]
  },
  {
   "cell_type": "code",
   "execution_count": 20,
   "metadata": {},
   "outputs": [],
   "source": [
    "from keras.models import load_model"
   ]
  },
  {
   "cell_type": "code",
   "execution_count": 21,
   "metadata": {},
   "outputs": [],
   "source": [
    "model=load_model('COVID_and_pnemonia.h5')"
   ]
  },
  {
   "cell_type": "code",
   "execution_count": 22,
   "metadata": {},
   "outputs": [],
   "source": [
    "import numpy as np"
   ]
  },
  {
   "cell_type": "code",
   "execution_count": 23,
   "metadata": {},
   "outputs": [],
   "source": [
    "from tensorflow.keras.preprocessing import image\n",
    "test_image=image.load_img('test_c.jpg',target_size=(225,225))"
   ]
  },
  {
   "cell_type": "code",
   "execution_count": 24,
   "metadata": {},
   "outputs": [
    {
     "data": {
      "image/png": "[encoded data removed]",
      "text/plain": [
       "<Figure size 432x288 with 1 Axes>"
      ]
     },
     "metadata": {
      "needs_background": "light"
     },
     "output_type": "display_data"
    }
   ],
   "source": [
    "import matplotlib.pyplot as plt\n",
    "img = plt.imshow(test_image)"
   ]
  },
  {
   "cell_type": "code",
   "execution_count": 25,
   "metadata": {},
   "outputs": [],
   "source": [
    "test_image=image.img_to_array(test_image)"
   ]
  },
  {
   "cell_type": "code",
   "execution_count": 26,
   "metadata": {},
   "outputs": [],
   "source": [
    "test_image=np.expand_dims(test_image,axis=0)"
   ]
  },
  {
   "cell_type": "code",
   "execution_count": 27,
   "metadata": {},
   "outputs": [],
   "source": [
    "result=model.predict(test_image)"
   ]
  },
  {
   "cell_type": "code",
   "execution_count": 28,
   "metadata": {},
   "outputs": [],
   "source": [
    "prediction = result[0]"
   ]
  },
  {
   "cell_type": "code",
   "execution_count": 29,
   "metadata": {},
   "outputs": [],
   "source": [
    "classes=training_set.class_indices"
   ]
  },
  {
   "cell_type": "code",
   "execution_count": 30,
   "metadata": {},
   "outputs": [
    {
     "data": {
      "text/plain": [
       "{'COVID19': 0, 'NORMAL': 1, 'PNEUMONIA': 2}"
      ]
     },
     "execution_count": 30,
     "metadata": {},
     "output_type": "execute_result"
    }
   ],
   "source": [
    "classes"
   ]
  },
  {
   "cell_type": "code",
   "execution_count": 31,
   "metadata": {},
   "outputs": [],
   "source": [
    "prediction=list(prediction)"
   ]
  },
  {
   "cell_type": "code",
   "execution_count": 32,
   "metadata": {},
   "outputs": [
    {
     "data": {
      "text/plain": [
       "[1.0, 0.0, 1.1965643e-31]"
      ]
     },
     "execution_count": 32,
     "metadata": {},
     "output_type": "execute_result"
    }
   ],
   "source": [
    "prediction"
   ]
  },
  {
   "cell_type": "code",
   "execution_count": 37,
   "metadata": {},
   "outputs": [],
   "source": [
    "classes=['COVID19', 'NORMAL', 'PNEUMONIA']"
   ]
  },
  {
   "cell_type": "code",
   "execution_count": 38,
   "metadata": {},
   "outputs": [],
   "source": [
    "output=zip(classes,prediction)"
   ]
  },
  {
   "cell_type": "code",
   "execution_count": 39,
   "metadata": {},
   "outputs": [],
   "source": [
    "output=dict(output)"
   ]
  },
  {
   "cell_type": "code",
   "execution_count": 40,
   "metadata": {},
   "outputs": [
    {
     "data": {
      "text/plain": [
       "{'COVID19': 1.0, 'NORMAL': 0.0, 'PNEUMONIA': 1.1965643e-31}"
      ]
     },
     "execution_count": 40,
     "metadata": {},
     "output_type": "execute_result"
    }
   ],
   "source": [
    "output"
   ]
  },
  {
   "cell_type": "code",
   "execution_count": 41,
   "metadata": {},
   "outputs": [
    {
     "name": "stdout",
     "output_type": "stream",
     "text": [
      "COVID19\n"
     ]
    }
   ],
   "source": [
    "if output['COVID19']==1.0 :\n",
    "    print(\"COVID19\")\n",
    "elif output['NORMAL']==1.0:\n",
    "    print(\"NORMAL\")\n",
    "elif output['PNEUMONIA']==1.0:\n",
    "    print(\"PNEUMONIA\")\n"
   ]
  },
  {
   "cell_type": "code",
   "execution_count": null,
   "metadata": {},
   "outputs": [],
   "source": []
  },
  {
   "cell_type": "code",
   "execution_count": null,
   "metadata": {},
   "outputs": [],
   "source": []
  },
  {
   "cell_type": "code",
   "execution_count": null,
   "metadata": {},
   "outputs": [],
   "source": []
  }
 ],
 "metadata": {
  "kernelspec": {
   "display_name": "Python 3",
   "language": "python",
   "name": "python3"
  },
  "language_info": {
   "codemirror_mode": {
    "name": "ipython",
    "version": 3
   },
   "file_extension": ".py",
   "mimetype": "text/x-python",
   "name": "python",
   "nbconvert_exporter": "python",
   "pygments_lexer": "ipython3",
   "version": "3.8.3"
  }
 },
 "nbformat": 4,
 "nbformat_minor": 2
}
